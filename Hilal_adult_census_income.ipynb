{
  "nbformat": 4,
  "nbformat_minor": 0,
  "metadata": {
    "colab": {
      "name": "Hilal_adult_census_income.ipynb",
      "version": "0.3.2",
      "provenance": [],
      "collapsed_sections": [],
      "include_colab_link": true
    },
    "kernelspec": {
      "display_name": "Python 3",
      "language": "python",
      "name": "python3"
    }
  },
  "cells": [
    {
      "cell_type": "markdown",
      "metadata": {
        "id": "view-in-github",
        "colab_type": "text"
      },
      "source": [
        "<a href=\"https://colab.research.google.com/github/adnanhilal/Hilal_CNG562_HW1/blob/master/Hilal_adult_census_income.ipynb\" target=\"_parent\"><img src=\"https://colab.research.google.com/assets/colab-badge.svg\" alt=\"Open In Colab\"/></a>"
      ]
    },
    {
      "metadata": {
        "id": "32uwSl5-KqGo",
        "colab_type": "code",
        "colab": {}
      },
      "cell_type": "code",
      "source": [
        "import numpy as np\n",
        "import pandas as pd\n",
        "from sklearn.model_selection import train_test_split\n",
        "from sklearn.linear_model import LogisticRegression\n",
        "from sklearn.model_selection import GridSearchCV\n",
        "from sklearn import preprocessing "
      ],
      "execution_count": 0,
      "outputs": []
    },
    {
      "metadata": {
        "id": "vbKwRsZTKqGs",
        "colab_type": "code",
        "colab": {}
      },
      "cell_type": "code",
      "source": [
        "from sklearn.tree import DecisionTreeClassifier\n",
        "from sklearn.neighbors import KNeighborsClassifier\n",
        "from sklearn.svm import SVC\n",
        "from sklearn.svm import LinearSVC\n",
        "from sklearn.metrics import accuracy_score\n",
        "from sklearn.metrics import mean_squared_error\n",
        "import warnings\n",
        "warnings.filterwarnings('ignore')"
      ],
      "execution_count": 0,
      "outputs": []
    },
    {
      "metadata": {
        "id": "Uxjs9PTJKqGv",
        "colab_type": "code",
        "colab": {}
      },
      "cell_type": "code",
      "source": [
        "url='https://raw.githubusercontent.com/adnanhilal/Hilal_CNG562_HW1/master/adult.csv'\n",
        "income = pd.read_csv(url)\n",
        "income = income.replace({'?' : np.nan}).dropna()"
      ],
      "execution_count": 0,
      "outputs": []
    },
    {
      "metadata": {
        "id": "mv-24MJeKqGz",
        "colab_type": "code",
        "colab": {}
      },
      "cell_type": "code",
      "source": [
        "income.columns = ['age', 'workclass', 'fnlwgt', 'education', 'education_num', 'marital_status', 'occupation', 'relationship', 'race', 'sex', 'capital_gain', 'capital_loss', 'hours_per_week', 'native_country', 'income']"
      ],
      "execution_count": 0,
      "outputs": []
    },
    {
      "metadata": {
        "id": "VzFHhAunNdN-",
        "colab_type": "text"
      },
      "cell_type": "markdown",
      "source": [
        "## converting data to numerical"
      ]
    },
    {
      "metadata": {
        "id": "-U1WTbtMKqG2",
        "colab_type": "code",
        "colab": {}
      },
      "cell_type": "code",
      "source": [
        "income.workclass.replace(('Private', 'Self-emp-not-inc', 'Self-emp-inc', 'Federal-gov', 'Local-gov', 'State-gov', 'Without-pay', 'Never-worked'),(1,2,3,4,5,6,7,8), inplace=True)\n",
        "income.education.replace(('Bachelors', 'Some-college', '11th', 'HS-grad', 'Prof-school', 'Assoc-acdm', 'Assoc-voc', '9th', '7th-8th', '12th', 'Masters', '1st-4th', '10th', 'Doctorate', '5th-6th', 'Preschool'),(1,2,3,4,5,6,7,8,9,10,11,12,13,14,15,16), inplace=True)\n",
        "income.marital_status.replace(('Married-civ-spouse', 'Divorced', 'Never-married', 'Separated', 'Widowed', 'Married-spouse-absent', 'Married-AF-spouse'),(1,2,3,4,5,6,7), inplace=True)\n",
        "income.occupation.replace(('Tech-support', 'Craft-repair', 'Other-service', 'Sales', 'Exec-managerial', 'Prof-specialty', 'Handlers-cleaners', 'Machine-op-inspct', 'Adm-clerical', 'Farming-fishing', 'Transport-moving', 'Priv-house-serv', 'Protective-serv', 'Armed-Forces'),(1,2,3,4,5,6,7,8,9,10,11,12,13,14), inplace=True)\n",
        "income.relationship.replace(('Wife', 'Own-child', 'Husband', 'Not-in-family', 'Other-relative', 'Unmarried'),(1,2,3,4,5,6), inplace=True)\n",
        "income.race.replace(('White', 'Asian-Pac-Islander', 'Amer-Indian-Eskimo', 'Other', 'Black'),(1,2,3,4,5), inplace=True)\n",
        "income.sex.replace(('Female', 'Male'),(1,2), inplace=True)\n",
        "income.native_country.replace(('United-States', 'Cambodia', 'England', 'Puerto-Rico', 'Canada', 'Germany', 'Outlying-US(Guam-USVI-etc)', 'India', 'Japan', 'Greece', 'South', 'China', 'Cuba', 'Iran', 'Honduras', 'Philippines', 'Italy', 'Poland', 'Jamaica', 'Vietnam', 'Mexico', 'Portugal', 'Ireland', 'France', 'Dominican-Republic', 'Laos', 'Ecuador', 'Taiwan', 'Haiti', 'Columbia', 'Hungary', 'Guatemala', 'Nicaragua', 'Scotland', 'Thailand', 'Yugoslavia', 'El-Salvador', 'Trinadad&Tobago', 'Peru', 'Hong', 'Holand-Netherlands'),(1,2,3,4,5,6,7,8,9,10,11,12,13,14,15,16,17,18,19,20,21,22,23,24,25,26,27,28,29,30,31,32,33,34,35,36,37,38,39,40,41), inplace=True)\n",
        "income.income.replace(('<=50K', '>50K'),(0,1), inplace=True)"
      ],
      "execution_count": 0,
      "outputs": []
    },
    {
      "metadata": {
        "id": "JkNi4lTRzVBK",
        "colab_type": "text"
      },
      "cell_type": "markdown",
      "source": [
        "for data converting i didn't use hot encoder because it increases the required memory, so Knn wont work"
      ]
    },
    {
      "metadata": {
        "id": "30d_FHkEKqG8",
        "colab_type": "code",
        "colab": {}
      },
      "cell_type": "code",
      "source": [
        "dataset = income.values\n",
        "X = dataset[:,0:14]\n",
        "Y = dataset[:,14] "
      ],
      "execution_count": 0,
      "outputs": []
    },
    {
      "metadata": {
        "id": "h03nHcidKqG_",
        "colab_type": "code",
        "outputId": "59cd3b82-dc1b-4b51-b8f5-60e65242ecf9",
        "colab": {
          "base_uri": "https://localhost:8080/",
          "height": 136
        }
      },
      "cell_type": "code",
      "source": [
        "X"
      ],
      "execution_count": 18,
      "outputs": [
        {
          "output_type": "execute_result",
          "data": {
            "text/plain": [
              "array([[    82,      1, 132870, ...,   4356,     18,      1],\n",
              "       [    54,      1, 140359, ...,   3900,     40,      1],\n",
              "       [    41,      1, 264663, ...,   3900,     40,      1],\n",
              "       ...,\n",
              "       [    40,      1, 154374, ...,      0,     40,      1],\n",
              "       [    58,      1, 151910, ...,      0,     40,      1],\n",
              "       [    22,      1, 201490, ...,      0,     20,      1]])"
            ]
          },
          "metadata": {
            "tags": []
          },
          "execution_count": 18
        }
      ]
    },
    {
      "metadata": {
        "id": "4uHkvgnWKqHE",
        "colab_type": "code",
        "outputId": "9db676c4-6baa-428b-bf50-503b4cceb4b6",
        "colab": {
          "base_uri": "https://localhost:8080/",
          "height": 34
        }
      },
      "cell_type": "code",
      "source": [
        "Y"
      ],
      "execution_count": 19,
      "outputs": [
        {
          "output_type": "execute_result",
          "data": {
            "text/plain": [
              "array([0, 0, 0, ..., 1, 0, 0])"
            ]
          },
          "metadata": {
            "tags": []
          },
          "execution_count": 19
        }
      ]
    },
    {
      "metadata": {
        "id": "wswNbcjKKqHN",
        "colab_type": "code",
        "colab": {}
      },
      "cell_type": "code",
      "source": [
        "X=X.astype(float)"
      ],
      "execution_count": 0,
      "outputs": []
    },
    {
      "metadata": {
        "id": "NKtVYLkSKqHS",
        "colab_type": "code",
        "colab": {}
      },
      "cell_type": "code",
      "source": [
        "Y=Y.astype(float)\n",
        "X = np.asmatrix(X)\n",
        "Y = Y.reshape(30162, 1)"
      ],
      "execution_count": 0,
      "outputs": []
    },
    {
      "metadata": {
        "id": "-x9Uchoja7er",
        "colab_type": "code",
        "colab": {}
      },
      "cell_type": "code",
      "source": [
        "X = preprocessing.scale(X)"
      ],
      "execution_count": 0,
      "outputs": []
    },
    {
      "metadata": {
        "id": "1BTj2VopNN_S",
        "colab_type": "text"
      },
      "cell_type": "markdown",
      "source": [
        "## Data splitting "
      ]
    },
    {
      "metadata": {
        "id": "k5gKqSkgKqHX",
        "colab_type": "code",
        "colab": {}
      },
      "cell_type": "code",
      "source": [
        "X_train, X_test, y_train, y_test = train_test_split(X, Y, test_size = 0.3, random_state=50)"
      ],
      "execution_count": 0,
      "outputs": []
    },
    {
      "metadata": {
        "id": "R8hUqUsJXW_f",
        "colab_type": "text"
      },
      "cell_type": "markdown",
      "source": [
        "# Knn model"
      ]
    },
    {
      "metadata": {
        "id": "7Yt6wI72Nz6n",
        "colab_type": "text"
      },
      "cell_type": "markdown",
      "source": [
        "## Knn training"
      ]
    },
    {
      "metadata": {
        "id": "v49ouSixKqHg",
        "colab_type": "code",
        "outputId": "1ff82a8e-ea31-4db7-a4bb-59ae63ece502",
        "colab": {
          "base_uri": "https://localhost:8080/",
          "height": 51
        }
      },
      "cell_type": "code",
      "source": [
        "knn = KNeighborsClassifier(n_neighbors=5, p=2).fit(X_train, y_train)\n",
        "print('accuracy for train knn:', accuracy_score(y_train, knn.predict(X_train)))\n",
        "print('accuracy for test knn:', accuracy_score(y_test, knn.predict(X_test)))"
      ],
      "execution_count": 24,
      "outputs": [
        {
          "output_type": "stream",
          "text": [
            "accuracy for train knn: 0.8768531236678824\n",
            "accuracy for test knn: 0.8199801082992596\n"
          ],
          "name": "stdout"
        }
      ]
    },
    {
      "metadata": {
        "id": "KCYq3FITOqOz",
        "colab_type": "text"
      },
      "cell_type": "markdown",
      "source": [
        "## Knn grid search cross validation"
      ]
    },
    {
      "metadata": {
        "id": "gi5nBPDgPx3X",
        "colab_type": "text"
      },
      "cell_type": "markdown",
      "source": [
        "the Knn grid search taking very long time"
      ]
    },
    {
      "metadata": {
        "id": "eBxA6QFtKqHo",
        "colab_type": "code",
        "colab": {}
      },
      "cell_type": "code",
      "source": [
        "#knnreg = KNeighborsClassifier()\n",
        "#parameters = {'n_neighbors': (25,29,42), 'p': (6,23)}\n",
        "#gscvknn = GridSearchCV(estimator = knnreg, param_grid = parameters, n_jobs=-1,cv=5, )\n",
        "#gscvknn.fit(X_train, y_train)\n",
        "\n",
        "#print(\"best_params_knn\" ,(gscvknn.best_params_)) \n",
        "#print(\"accuracy_score_knn_train\" ,(gscvknn.score(X_train, y_train)))\n",
        "#print (\"accuracy_score_knn_test\" ,(gscvknn.score(X_test, y_test)))"
      ],
      "execution_count": 0,
      "outputs": []
    },
    {
      "metadata": {
        "id": "Ee5PkkOjRcj8",
        "colab_type": "text"
      },
      "cell_type": "markdown",
      "source": [
        "# logistic regression training"
      ]
    },
    {
      "metadata": {
        "id": "7yVfssEFKqH7",
        "colab_type": "code",
        "colab": {
          "base_uri": "https://localhost:8080/",
          "height": 51
        },
        "outputId": "8ffc81cd-1b66-418f-de8e-1966a5770012"
      },
      "cell_type": "code",
      "source": [
        "reg = LogisticRegression().fit(X_train, y_train)\n",
        "print(\"accuracy_score_knn_train\" , reg.score(X_train, y_train))\n",
        "print(\"accuracy_score_knn_train\" , reg.score(X_test, y_test))"
      ],
      "execution_count": 26,
      "outputs": [
        {
          "output_type": "stream",
          "text": [
            "accuracy_score_knn_train 0.8399564249514517\n",
            "accuracy_score_knn_train 0.8318046192949498\n"
          ],
          "name": "stdout"
        }
      ]
    },
    {
      "metadata": {
        "id": "0Z9P2J-EXeKv",
        "colab_type": "text"
      },
      "cell_type": "markdown",
      "source": [
        "# Decision tree model (best model)"
      ]
    },
    {
      "metadata": {
        "id": "d1pBEl0WR0v9",
        "colab_type": "text"
      },
      "cell_type": "markdown",
      "source": [
        "## Decision tree training (best model)"
      ]
    },
    {
      "metadata": {
        "id": "d_L4eyayKqIK",
        "colab_type": "code",
        "colab": {
          "base_uri": "https://localhost:8080/",
          "height": 51
        },
        "outputId": "79c45a71-17a1-4fa4-915c-6070106f9421"
      },
      "cell_type": "code",
      "source": [
        "tree = DecisionTreeClassifier(max_depth=10,max_leaf_nodes=40).fit(X_train.reshape(21113, 14), y_train)\n",
        "print('accuracy for train DecisionTree:', accuracy_score(y_train, tree.predict(X_train)))\n",
        "print('accuracy for train DecisionTree:', accuracy_score(y_test, tree.predict(X_test)))"
      ],
      "execution_count": 27,
      "outputs": [
        {
          "output_type": "stream",
          "text": [
            "accuracy for train DecisionTree: 0.861696585042391\n",
            "accuracy for train DecisionTree: 0.8503702066526688\n"
          ],
          "name": "stdout"
        }
      ]
    },
    {
      "metadata": {
        "id": "2d9cCjojSWTB",
        "colab_type": "text"
      },
      "cell_type": "markdown",
      "source": [
        "## Decision tree grid search"
      ]
    },
    {
      "metadata": {
        "id": "TdpCTevzKqIU",
        "colab_type": "code",
        "colab": {
          "base_uri": "https://localhost:8080/",
          "height": 68
        },
        "outputId": "4c433e03-207f-44fa-aa3e-6ec8de710798"
      },
      "cell_type": "code",
      "source": [
        "tree= DecisionTreeClassifier()\n",
        "parameters = {'max_depth': (13,15,20,25,35), 'max_leaf_nodes': (54,64,71,73)}\n",
        "gscvtree = GridSearchCV(estimator = tree, param_grid = parameters, n_jobs=-1,\n",
        "cv=5, )\n",
        "gscvtree.fit(X_train, y_train)\n",
        "print(\"best_params_tree\" ,(gscvtree.best_params_)) \n",
        "print(\"accuracy_score_tree_train\" ,(gscvtree.score(X_test, y_test)))\n",
        "print (\"accuracy_score_tree_test\" ,(gscvtree.score(X_train, y_train)))"
      ],
      "execution_count": 28,
      "outputs": [
        {
          "output_type": "stream",
          "text": [
            "best_params_tree {'max_depth': 20, 'max_leaf_nodes': 54}\n",
            "accuracy_score_tree_train 0.8522488672781523\n",
            "accuracy_score_tree_test 0.8632596030881448\n"
          ],
          "name": "stdout"
        }
      ]
    },
    {
      "metadata": {
        "id": "y2u4mwZSXsR_",
        "colab_type": "text"
      },
      "cell_type": "markdown",
      "source": [
        "# support vector classifier"
      ]
    },
    {
      "metadata": {
        "id": "4aOZiO6pTSuV",
        "colab_type": "text"
      },
      "cell_type": "markdown",
      "source": [
        "## support vector classifier training"
      ]
    },
    {
      "metadata": {
        "id": "e3CyPLFiKqI3",
        "colab_type": "code",
        "colab": {
          "base_uri": "https://localhost:8080/",
          "height": 51
        },
        "outputId": "2bad80f9-0309-4baf-d031-a8ca2808f959"
      },
      "cell_type": "code",
      "source": [
        "from sklearn.svm import SVC\n",
        "svc = SVC(C=2, max_iter=100, tol=0.001 ).fit(X_train, y_train)\n",
        "print('Accuracy traning for Support Vector Machine:',\n",
        "accuracy_score(y_train, svc.predict(X_train)))\n",
        "print('Accuracy test for Support Vector Machine:',\n",
        "accuracy_score(y_test, svc.predict(X_test)))"
      ],
      "execution_count": 29,
      "outputs": [
        {
          "output_type": "stream",
          "text": [
            "Accuracy traning for Support Vector Machine: 0.518069435892578\n",
            "Accuracy test for Support Vector Machine: 0.5217151066416179\n"
          ],
          "name": "stdout"
        }
      ]
    },
    {
      "metadata": {
        "id": "7grVyYfPTkZV",
        "colab_type": "text"
      },
      "cell_type": "markdown",
      "source": [
        "## support vector classifier grid searching "
      ]
    },
    {
      "metadata": {
        "id": "yd3ecG0hKqI8",
        "colab_type": "code",
        "colab": {
          "base_uri": "https://localhost:8080/",
          "height": 68
        },
        "outputId": "757e714a-7046-41d7-efe6-58aad53b7778"
      },
      "cell_type": "code",
      "source": [
        "from sklearn.model_selection import GridSearchCV\n",
        "svc = SVC()\n",
        "parameters = {'C': (0.01,0.5,2), 'max_iter': (33,37,44), 'tol': (0.0000001,0.0000000004)}\n",
        "gscvsvc = GridSearchCV(estimator = svc, param_grid = parameters, n_jobs=-1,cv=5, )\n",
        "gscvsvc.fit(X_train, y_train)\n",
        "print(\"best_params_svc\" ,(gscvsvc.best_params_)) \n",
        "print(\"accuracy_score_svc_train\" ,(gscvsvc.score(X_train, y_train)))\n",
        "print (\"accuracy_score_svc_test\" ,(gscvsvc.score(X_test, y_test)))"
      ],
      "execution_count": 30,
      "outputs": [
        {
          "output_type": "stream",
          "text": [
            "best_params_svc {'C': 2, 'max_iter': 33, 'tol': 1e-07}\n",
            "accuracy_score_svc_train 0.5286316487472174\n",
            "accuracy_score_svc_test 0.528345673555089\n"
          ],
          "name": "stdout"
        }
      ]
    },
    {
      "metadata": {
        "id": "9-JNbX1uE15f",
        "colab_type": "text"
      },
      "cell_type": "markdown",
      "source": [
        "Results of Grid Search and Cross-Validation show that the best score could be achieved by the Decision Tree whereas the worst estimator could be the Support Vector Classifier. Both Logistic Regression and KNN have acceptable score."
      ]
    }
  ]
}