{
  "nbformat": 4,
  "nbformat_minor": 0,
  "metadata": {
    "colab": {
      "name": "Hilal_forest_fire.ipynb",
      "version": "0.3.2",
      "provenance": [],
      "collapsed_sections": [
        "crWjN0uS8bGc",
        "5StgI7Tn81OM",
        "x50Aq-ry85Wf",
        "ByaAqsk39ANl",
        "lyva_wua9HY0",
        "612xO4nM9pZE",
        "OcFOgzeK97XO",
        "8DoyW-Ya-LI3",
        "iyomLquh-O8i"
      ],
      "include_colab_link": true
    },
    "language_info": {
      "codemirror_mode": {
        "name": "ipython",
        "version": 3
      },
      "file_extension": ".py",
      "mimetype": "text/x-python",
      "name": "python",
      "nbconvert_exporter": "python",
      "pygments_lexer": "ipython3",
      "version": "3.7.2"
    },
    "kernelspec": {
      "display_name": "Python 3",
      "language": "python",
      "name": "python3"
    }
  },
  "cells": [
    {
      "cell_type": "markdown",
      "metadata": {
        "id": "view-in-github",
        "colab_type": "text"
      },
      "source": [
        "<a href=\"https://colab.research.google.com/github/adnanhilal/Hilal_CNG562_HW1/blob/master/Hilal_forest_fire.ipynb\" target=\"_parent\"><img src=\"https://colab.research.google.com/assets/colab-badge.svg\" alt=\"Open In Colab\"/></a>"
      ]
    },
    {
      "metadata": {
        "id": "418u1F-W67mf",
        "colab_type": "code",
        "colab": {}
      },
      "cell_type": "code",
      "source": [
        "import numpy as np\n",
        "import pandas as pd\n",
        "from sklearn.model_selection import train_test_split\n",
        "from sklearn.linear_model import LogisticRegression\n",
        "from sklearn.tree import DecisionTreeClassifier\n",
        "from sklearn.neighbors import KNeighborsClassifier\n",
        "from sklearn.metrics import accuracy_score\n",
        "from sklearn.metrics import mean_squared_error\n",
        "from sklearn.neighbors import KNeighborsRegressor\n",
        "from sklearn import preprocessing \n",
        "from sklearn.pipeline import Pipeline\n",
        "from sklearn.preprocessing import OneHotEncoder\n",
        "from sklearn.compose import ColumnTransformer\n",
        "from sklearn.metrics import mean_squared_error as mse\n",
        "import numpy as np\n",
        "from sklearn.linear_model import LinearRegression\n",
        "from sklearn.tree import DecisionTreeRegressor\n",
        "from sklearn.model_selection import GridSearchCV\n",
        "import warnings\n",
        "warnings.filterwarnings('ignore')"
      ],
      "execution_count": 0,
      "outputs": []
    },
    {
      "metadata": {
        "id": "1CbEib9y67mj",
        "colab_type": "code",
        "colab": {
          "base_uri": "https://localhost:8080/",
          "height": 68
        },
        "outputId": "ec0cd4fb-6724-40c8-c311-e754890a1124"
      },
      "cell_type": "code",
      "source": [
        "url='http://www.dsi.uminho.pt/~pcortez/forestfires/forestfires.csv'\n",
        "fire=pd.read_csv(url)\n",
        "fire.columns"
      ],
      "execution_count": 4,
      "outputs": [
        {
          "output_type": "execute_result",
          "data": {
            "text/plain": [
              "Index(['X', 'Y', 'month', 'day', 'FFMC', 'DMC', 'DC', 'ISI', 'temp', 'RH',\n",
              "       'wind', 'rain', 'area'],\n",
              "      dtype='object')"
            ]
          },
          "metadata": {
            "tags": []
          },
          "execution_count": 4
        }
      ]
    },
    {
      "metadata": {
        "id": "akkNEP-Q7V9K",
        "colab_type": "text"
      },
      "cell_type": "markdown",
      "source": [
        "## data conversion using encoding"
      ]
    },
    {
      "metadata": {
        "id": "3t2cix3T67mp",
        "colab_type": "code",
        "colab": {}
      },
      "cell_type": "code",
      "source": [
        "categorical_features = ['month',\n",
        "                       'day']\n",
        "\n",
        "categorical_transformer = Pipeline(steps=[('onehot',\n",
        "OneHotEncoder(handle_unknown='ignore'))])\n",
        "\n",
        "ct = ColumnTransformer(transformers=[('categorical_transformer',\n",
        "                                      categorical_transformer,\n",
        "                                      categorical_features)],\n",
        "remainder='passthrough')\n",
        "datain = ct.fit_transform(fire.drop('area', axis=1))\n",
        "dataout = fire['area']"
      ],
      "execution_count": 0,
      "outputs": []
    },
    {
      "metadata": {
        "id": "ZFOnEuD37iwC",
        "colab_type": "text"
      },
      "cell_type": "markdown",
      "source": [
        "## data separation"
      ]
    },
    {
      "metadata": {
        "id": "G9WohaiU67ms",
        "colab_type": "code",
        "colab": {}
      },
      "cell_type": "code",
      "source": [
        "x_train, x_test, y_train, y_test = train_test_split(datain,dataout,test_size=0.3, random_state=30)"
      ],
      "execution_count": 0,
      "outputs": []
    },
    {
      "metadata": {
        "id": "hBrjm9R37sDB",
        "colab_type": "text"
      },
      "cell_type": "markdown",
      "source": [
        "# original data without scaling"
      ]
    },
    {
      "metadata": {
        "id": "-BHaWuPw73V5",
        "colab_type": "text"
      },
      "cell_type": "markdown",
      "source": [
        "## knn model "
      ]
    },
    {
      "metadata": {
        "id": "DiQvMGLD67mv",
        "colab_type": "code",
        "colab": {},
        "outputId": "ec99b916-a821-4b0f-bf4d-79bd678d9c6a"
      },
      "cell_type": "code",
      "source": [
        "knnreg = KNeighborsRegressor(n_neighbors=30, p=3)\n",
        "knn = knnreg.fit(x_train, y_train)\n",
        "print('mse for train knn:', mse (y_train, knn.predict(x_train)))\n",
        "print('mse for test knn:', mse(y_test, knn.predict(x_test)))"
      ],
      "execution_count": 0,
      "outputs": [
        {
          "output_type": "stream",
          "text": [
            "mse for train knn: 5471.498419220682\n",
            "mse for test knn: 870.0147768931623\n"
          ],
          "name": "stdout"
        }
      ]
    },
    {
      "metadata": {
        "id": "afpjuRzU8Ln5",
        "colab_type": "text"
      },
      "cell_type": "markdown",
      "source": [
        "## linear regression model"
      ]
    },
    {
      "metadata": {
        "id": "0-XEIGsj67m0",
        "colab_type": "code",
        "colab": {},
        "outputId": "beee4b49-3830-423e-dc1f-6ee46262c5bb"
      },
      "cell_type": "code",
      "source": [
        "reg = LinearRegression().fit(x_train, y_train)\n",
        "print('mse for train linearregression:', mse (y_train, reg.predict(x_train)))\n",
        "print('mse for train linearregression:', mse (y_test, reg.predict(x_test)))"
      ],
      "execution_count": 0,
      "outputs": [
        {
          "output_type": "stream",
          "text": [
            "mse for train linearregression: 5251.76524109501\n",
            "mse for train linearregression: 830.8707221992546\n"
          ],
          "name": "stdout"
        }
      ]
    },
    {
      "metadata": {
        "id": "crWjN0uS8bGc",
        "colab_type": "text"
      },
      "cell_type": "markdown",
      "source": [
        "# scaled data analysis"
      ]
    },
    {
      "metadata": {
        "id": "Q9ttUe7G67m8",
        "colab_type": "code",
        "colab": {}
      },
      "cell_type": "code",
      "source": [
        "X_scaled = preprocessing.scale(datain)\n",
        "Y_scaled = preprocessing.scale(dataout)"
      ],
      "execution_count": 0,
      "outputs": []
    },
    {
      "metadata": {
        "id": "fHf3dwWa67nA",
        "colab_type": "code",
        "colab": {}
      },
      "cell_type": "code",
      "source": [
        "x_train, x_test, y_train, y_test = train_test_split(x_scaled,y_scaled,test_size=0.30, random_state=17)"
      ],
      "execution_count": 0,
      "outputs": []
    },
    {
      "metadata": {
        "id": "gOcPJMxX8l7A",
        "colab_type": "text"
      },
      "cell_type": "markdown",
      "source": [
        "## knn model"
      ]
    },
    {
      "metadata": {
        "id": "3ShUk5nR67nD",
        "colab_type": "code",
        "colab": {},
        "outputId": "599832be-7d06-4da8-9610-51ee1c2bf45d"
      },
      "cell_type": "code",
      "source": [
        "knnreg = KNeighborsRegressor(n_neighbors=12, p=3)\n",
        "knn = knnreg.fit(x_train, y_train)\n",
        "print('mse for train knn:', mse (y_train, knn.predict(x_train)))\n",
        "print('mse for test knn:', mse (y_test, knn.predict(x_test)))"
      ],
      "execution_count": 0,
      "outputs": [
        {
          "output_type": "stream",
          "text": [
            "mse for train knn: 0.9656493643120783\n",
            "mse for test knn: 1.0937239599680293\n"
          ],
          "name": "stdout"
        }
      ]
    },
    {
      "metadata": {
        "id": "HwXWhALE8vBp",
        "colab_type": "text"
      },
      "cell_type": "markdown",
      "source": [
        "## leanear model"
      ]
    },
    {
      "metadata": {
        "id": "X-CChDcB67nJ",
        "colab_type": "code",
        "colab": {},
        "outputId": "1b7d8e89-c4a6-4715-cf44-1ab05f146d77"
      },
      "cell_type": "code",
      "source": [
        "reg = LinearRegression().fit(x_train, y_train)\n",
        "print('mse for train linearregression:', mse (y_train, reg.predict(x_train)))\n",
        "print('mse for test linearregression:', mse (y_test, reg.predict(x_test)))"
      ],
      "execution_count": 0,
      "outputs": [
        {
          "output_type": "stream",
          "text": [
            "mse for train linearregression: 0.9474844516671346\n",
            "mse for test linearregression: 15.33252069034272\n"
          ],
          "name": "stdout"
        }
      ]
    },
    {
      "metadata": {
        "id": "5StgI7Tn81OM",
        "colab_type": "text"
      },
      "cell_type": "markdown",
      "source": [
        "# adding features"
      ]
    },
    {
      "metadata": {
        "id": "F0W8Y9-b67nT",
        "colab_type": "code",
        "colab": {}
      },
      "cell_type": "code",
      "source": [
        "#datain"
      ],
      "execution_count": 0,
      "outputs": []
    },
    {
      "metadata": {
        "id": "SQNGoCtx67nW",
        "colab_type": "code",
        "colab": {}
      },
      "cell_type": "code",
      "source": [
        "rain_square = fire.rain * fire.rain\n",
        "firerain=np.c_[ datain, rain_square]\n",
        "temp_square = fire.temp * fire.temp\n",
        "fire2=np.c_[ firerain, temp_square]\n",
        "wind_square = fire.wind * fire.wind\n",
        "fire3=np.c_[ fire2, wind_square]\n",
        "wind_temp = fire.wind * fire.temp\n",
        "fire4=np.c_[ fire3, wind_temp]\n",
        "#fire4"
      ],
      "execution_count": 0,
      "outputs": []
    },
    {
      "metadata": {
        "id": "lWCtB9uv67nZ",
        "colab_type": "code",
        "colab": {}
      },
      "cell_type": "code",
      "source": [
        "x_scaled = preprocessing.scale(fire4)\n",
        "y_scaled = preprocessing.scale(dataout)"
      ],
      "execution_count": 0,
      "outputs": []
    },
    {
      "metadata": {
        "id": "kVlx5tIY67nd",
        "colab_type": "code",
        "colab": {}
      },
      "cell_type": "code",
      "source": [
        "x_train, x_test, y_train, y_test = train_test_split(x_scaled,y_scaled,test_size=0.30, random_state=17)"
      ],
      "execution_count": 0,
      "outputs": []
    },
    {
      "metadata": {
        "id": "x50Aq-ry85Wf",
        "colab_type": "text"
      },
      "cell_type": "markdown",
      "source": [
        "## knn model"
      ]
    },
    {
      "metadata": {
        "id": "u1AYMMTx88LL",
        "colab_type": "text"
      },
      "cell_type": "markdown",
      "source": [
        "### knn training"
      ]
    },
    {
      "metadata": {
        "id": "Z0pzF1ir67nk",
        "colab_type": "code",
        "colab": {},
        "outputId": "4d8a8537-d357-4110-e666-17e5bcde399f"
      },
      "cell_type": "code",
      "source": [
        "knnreg = KNeighborsRegressor(n_neighbors=25, p=12)\n",
        "knn = knnreg.fit(x_train, y_train)\n",
        "print('mse for train knn:', mse (y_train, knn.predict(x_train)))\n",
        "print('mse for test knn:', mse (y_test, knn.predict(x_test)))"
      ],
      "execution_count": 0,
      "outputs": [
        {
          "output_type": "stream",
          "text": [
            "mse for train knn: 0.9973240499485118\n",
            "mse for test knn: 1.0243419838164947\n"
          ],
          "name": "stdout"
        }
      ]
    },
    {
      "metadata": {
        "id": "ByaAqsk39ANl",
        "colab_type": "text"
      },
      "cell_type": "markdown",
      "source": [
        "### knn grid search"
      ]
    },
    {
      "metadata": {
        "id": "ome8pNqW67np",
        "colab_type": "code",
        "colab": {},
        "outputId": "85ed38d6-1cf9-41ac-e97a-31e9d42eef60"
      },
      "cell_type": "code",
      "source": [
        "knnreg = KNeighborsRegressor()\n",
        "parameters = {'n_neighbors': (3,5,10,20,30,35,45,80), 'p': (2,3,5,10,12,40)}\n",
        "gscvknn = GridSearchCV(estimator = knnreg, param_grid = parameters, n_jobs=-1,cv=5 )\n",
        "gscvknn.fit(x_train, y_train)\n",
        "print(\"best_params_knn\" ,(gscvknn.best_params_)) \n",
        "print(\"accuracy_score_knn_train\" ,(gscvknn.score(x_test, y_test)))\n",
        "print (\"accuracy_score_knn_test\" ,(gscvknn.score(x_train, y_train)))"
      ],
      "execution_count": 0,
      "outputs": [
        {
          "output_type": "stream",
          "text": [
            "C:\\Users\\adnan\\AppData\\Local\\Programs\\Python\\Python37-32\\lib\\site-packages\\sklearn\\model_selection\\_search.py:841: DeprecationWarning: The default of the `iid` parameter will change from True to False in version 0.22 and will be removed in 0.24. This will change numeric results when test-set sizes are unequal.\n",
            "  DeprecationWarning)\n"
          ],
          "name": "stderr"
        },
        {
          "output_type": "stream",
          "text": [
            "best_params_knn {'n_neighbors': 80, 'p': 40}\n",
            "accuracy_score_knn_train -0.02607776886735702\n",
            "accuracy_score_knn_test 0.018801236830076618\n"
          ],
          "name": "stdout"
        }
      ]
    },
    {
      "metadata": {
        "id": "lyva_wua9HY0",
        "colab_type": "text"
      },
      "cell_type": "markdown",
      "source": [
        "## decision tree model"
      ]
    },
    {
      "metadata": {
        "id": "EKH8K2ZV9OMT",
        "colab_type": "text"
      },
      "cell_type": "markdown",
      "source": [
        "### decision tree trainig"
      ]
    },
    {
      "metadata": {
        "id": "BfUxfYwh67nv",
        "colab_type": "code",
        "colab": {},
        "outputId": "3da0f69f-8b5f-4ab8-a451-ba46d779b9e3"
      },
      "cell_type": "code",
      "source": [
        "from sklearn.tree import DecisionTreeRegressor\n",
        "tree= DecisionTreeRegressor(max_depth=5, max_leaf_nodes=3, random_state=150).fit(x_train, y_train)\n",
        "print('mse for train tree:', mse (y_train, tree.predict(x_train)))\n",
        "print('mse for test tree:', mse (y_test, tree.predict(x_test)))"
      ],
      "execution_count": 0,
      "outputs": [
        {
          "output_type": "stream",
          "text": [
            "mse for train tree: 0.2194813868754099\n",
            "mse for test tree: 0.9480065073055439\n"
          ],
          "name": "stdout"
        }
      ]
    },
    {
      "metadata": {
        "id": "jUzhMcJ_9aP7",
        "colab_type": "text"
      },
      "cell_type": "markdown",
      "source": [
        "### decision tree grid search"
      ]
    },
    {
      "metadata": {
        "id": "yhI3p7h667n6",
        "colab_type": "code",
        "colab": {},
        "outputId": "66f9266f-df27-4be0-8b4a-95a009734e77"
      },
      "cell_type": "code",
      "source": [
        "tree= DecisionTreeRegressor()\n",
        "parameters = {'max_depth': (0.1,0.2,1,3,5,10), 'max_leaf_nodes': (2,3,5,10,12,40)}\n",
        "gscvtree = GridSearchCV(estimator = tree, param_grid = parameters, n_jobs=-1,\n",
        "cv=5, )\n",
        "gscvtree.fit(x_train, y_train)\n",
        "print(\"best_params_tree\" ,(gscvtree.best_params_)) \n",
        "print(\"accuracy_score_tree_train\" ,(gscvtree.score(x_test, y_test)))\n",
        "print (\"accuracy_score_tree_test\" ,(gscvtree.score(x_train, y_train)))"
      ],
      "execution_count": 0,
      "outputs": [
        {
          "output_type": "stream",
          "text": [
            "best_params_tree {'max_depth': 0.1, 'max_leaf_nodes': 2}\n",
            "accuracy_score_tree_train -0.10773718924403841\n",
            "accuracy_score_tree_test 0.04497354497354511\n"
          ],
          "name": "stdout"
        }
      ]
    },
    {
      "metadata": {
        "id": "SKjxeR-O9gh8",
        "colab_type": "text"
      },
      "cell_type": "markdown",
      "source": [
        "## lianear model "
      ]
    },
    {
      "metadata": {
        "id": "Lt2Q-saL67oA",
        "colab_type": "code",
        "colab": {},
        "outputId": "b50611e2-08d4-467f-e289-7e80dd0f951f"
      },
      "cell_type": "code",
      "source": [
        "reg = LinearRegression().fit(x_train, y_train)\n",
        "print('mse for train reg:', mse (y_train, reg.predict(x_train)))\n",
        "print('mse for test reg:', mse (y_test, reg.predict(x_test)))"
      ],
      "execution_count": 0,
      "outputs": [
        {
          "output_type": "stream",
          "text": [
            "mse for train reg: 0.9474844516671346\n",
            "mse for test reg: 15.33252069034272\n"
          ],
          "name": "stdout"
        }
      ]
    },
    {
      "metadata": {
        "id": "612xO4nM9pZE",
        "colab_type": "text"
      },
      "cell_type": "markdown",
      "source": [
        "# converting fire area to binary"
      ]
    },
    {
      "metadata": {
        "id": "qyRHN9qh67oM",
        "colab_type": "code",
        "colab": {}
      },
      "cell_type": "code",
      "source": [
        "dataoutb= 1.0 * (fire['area']>40) ## threshold=40\n",
        "#dataout"
      ],
      "execution_count": 0,
      "outputs": []
    },
    {
      "metadata": {
        "id": "7MWxEGGa67oP",
        "colab_type": "code",
        "colab": {}
      },
      "cell_type": "code",
      "source": [
        "x_trainb, x_testb, y_trainb, y_testb = train_test_split(x_scaled,dataoutb,test_size=0.3, random_state=4)"
      ],
      "execution_count": 0,
      "outputs": []
    },
    {
      "metadata": {
        "id": "OcFOgzeK97XO",
        "colab_type": "text"
      },
      "cell_type": "markdown",
      "source": [
        "## knn model, training and grid search (binary classification)"
      ]
    },
    {
      "metadata": {
        "id": "wmDCKLnd67oR",
        "colab_type": "code",
        "colab": {},
        "outputId": "a90fd7ff-7458-4996-cf5e-2b8599eb5b56"
      },
      "cell_type": "code",
      "source": [
        "knnreg = KNeighborsClassifier(n_neighbors=40, p=3)\n",
        "knn = knnreg.fit(x_train, y_train)\n",
        "print(\"accuracy_score_knnb_train\" ,(knn.score(x_trainb, y_trainb)))\n",
        "print (\"accuracy_score_knnb_test\" ,(knn.score(x_testb, y_testb)))"
      ],
      "execution_count": 0,
      "outputs": [
        {
          "output_type": "stream",
          "text": [
            "accuracy_score_knnb_train 0.9418282548476454\n",
            "accuracy_score_knnb_test 0.9358974358974359\n"
          ],
          "name": "stdout"
        }
      ]
    },
    {
      "metadata": {
        "id": "1tZHpPBa67oX",
        "colab_type": "code",
        "colab": {},
        "outputId": "6f53a1db-267a-44d1-f161-abf5b407b925"
      },
      "cell_type": "code",
      "source": [
        "from sklearn.model_selection import GridSearchCV\n",
        "knnreg = KNeighborsClassifier()\n",
        "parameters = {'n_neighbors': (3,5,10,20,30,35,45,80), 'p': (2,3,5,10,12,40)}\n",
        "gscvknnb = GridSearchCV(estimator = knnreg, param_grid = parameters, n_jobs=-1,cv=5 )\n",
        "gscvknnb.fit(x_train, y_train)\n",
        "print(\"best_params_knnb\" ,(gscvknnb.best_params_)) \n",
        "print(\"accuracy_score_knnb_train\" ,(gscvknnb.score(x_test, y_test)))\n",
        "print (\"accuracy_score_knnb_test\" ,(gscvknnb.score(x_train, y_train)))"
      ],
      "execution_count": 0,
      "outputs": [
        {
          "output_type": "stream",
          "text": [
            "best_params_knnb {'n_neighbors': 3, 'p': 2}\n",
            "accuracy_score_knnb_train 0.9358974358974359\n",
            "accuracy_score_knnb_test 0.9473684210526315\n"
          ],
          "name": "stdout"
        }
      ]
    },
    {
      "metadata": {
        "id": "8DoyW-Ya-LI3",
        "colab_type": "text"
      },
      "cell_type": "markdown",
      "source": [
        "## tree model, training and grid search (binary classification)"
      ]
    },
    {
      "metadata": {
        "id": "z6daYr-o67ob",
        "colab_type": "code",
        "colab": {},
        "outputId": "5315719b-f223-4107-afb4-90833f5fca20"
      },
      "cell_type": "code",
      "source": [
        "treeb = DecisionTreeClassifier(max_leaf_nodes=5).fit(x_trainb, y_trainb)\n",
        "print(\"accuracy_score_treeb_train\" ,(treeb.score(x_trainb, y_trainb)))\n",
        "print (\"accuracy_score_treeb_test\" ,(treeb.score(x_testb, y_testb)))"
      ],
      "execution_count": 0,
      "outputs": [
        {
          "output_type": "stream",
          "text": [
            "accuracy_score_treeb_train 0.9501385041551247\n",
            "accuracy_score_treeb_test 0.9102564102564102\n"
          ],
          "name": "stdout"
        }
      ]
    },
    {
      "metadata": {
        "id": "OdRHuiEN67oe",
        "colab_type": "code",
        "colab": {},
        "outputId": "501c6d58-7360-4703-ae6f-480a645df641"
      },
      "cell_type": "code",
      "source": [
        "treeb= DecisionTreeClassifier()\n",
        "parameters = {'max_depth': (5,10,15,80,78), 'max_leaf_nodes': (2,4,7,9,20,40)}\n",
        "gscvtreeb = GridSearchCV(estimator = treeb, param_grid = parameters, n_jobs=-1,\n",
        "cv=5, )\n",
        "gscvtreeb.fit(x_trainb, y_trainb)\n",
        "\n",
        "print(\"best_params_treeb\" ,(gscvtreeb.best_params_)) \n",
        "print(\"accuracy_score_treeb_train\" ,(gscvtreeb.score(x_testb, y_testb)))\n",
        "print (\"accuracy_score_treeb_test\" ,(gscvtreeb.score(x_trainb, y_trainb)))"
      ],
      "execution_count": 0,
      "outputs": [
        {
          "output_type": "stream",
          "text": [
            "best_params_treeb {'max_depth': 5, 'max_leaf_nodes': 2}\n",
            "accuracy_score_treeb_train 0.9294871794871795\n",
            "accuracy_score_treeb_test 0.9445983379501385\n"
          ],
          "name": "stdout"
        }
      ]
    },
    {
      "metadata": {
        "id": "iyomLquh-O8i",
        "colab_type": "text"
      },
      "cell_type": "markdown",
      "source": [
        "## knn model, training  (binary classification)"
      ]
    },
    {
      "metadata": {
        "id": "u1A9itqK67om",
        "colab_type": "code",
        "colab": {},
        "outputId": "1b4bf6b3-00d1-47e4-e74e-e30954589473"
      },
      "cell_type": "code",
      "source": [
        "regb = LogisticRegression().fit(x_trainb, y_trainb)\n",
        "print(\"accuracy_score_regb_train\" ,(regb.score(x_testb, y_testb)))\n",
        "print (\"accuracy_score_regb_test\" ,(regb.score(x_trainb, y_trainb)))"
      ],
      "execution_count": 0,
      "outputs": [
        {
          "output_type": "stream",
          "text": [
            "accuracy_score_regb_train 0.9294871794871795\n",
            "accuracy_score_regb_test 0.9418282548476454\n"
          ],
          "name": "stdout"
        }
      ]
    },
    {
      "metadata": {
        "id": "c-k1AalP6xN1",
        "colab_type": "text"
      },
      "cell_type": "markdown",
      "source": [
        "none of the models was able to represent the data with a good accuracy, (they weren't a good conversion) . the limited data is the reason of the high error. adding more features wasn't efficant to make a notacable increase of the acurecy. on the other hand,  convert the problem to binary increase and enhance the accurecy score."
      ]
    }
  ]
}